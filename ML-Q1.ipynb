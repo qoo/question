{
 "cells": [
  {
   "cell_type": "code",
   "execution_count": 1,
   "id": "55ba56e5-f227-4b65-95b8-5e5ac7484a42",
   "metadata": {},
   "outputs": [],
   "source": [
    "import torch\n",
    "import torch.nn as nn\n",
    "import torch.optim as optim\n",
    "import torch.nn.functional as F\n",
    "import torch.jit\n",
    "\n"
   ]
  },
  {
   "cell_type": "code",
   "execution_count": 4,
   "id": "2ddb9ba3-aa28-4a83-bc8f-e2a849b491bb",
   "metadata": {},
   "outputs": [],
   "source": [
    "import torch\n",
    "import torch.nn as nn\n",
    "import torch.optim as optim\n",
    "\n",
    "\n",
    "# Define the ConvNet model\n",
    "class OneLayer1dConvNet(nn.Module):\n",
    "    def __init__(self, in_channels, out_channels, bias=True):\n",
    "        super(OneLayer1dConvNet, self).__init__()\n",
    "        self.conv1 = nn.Conv1d(in_channels, out_channels, kernel_size=1, bias = bias)\n",
    "\n",
    "    def forward(self, x):\n",
    "        x = self.conv1(x)\n",
    "        return x\n"
   ]
  },
  {
   "cell_type": "code",
   "execution_count": 9,
   "id": "3e6bb2dd-7e24-4dc5-bde6-ba47fb9b28bd",
   "metadata": {},
   "outputs": [
    {
     "name": "stdout",
     "output_type": "stream",
     "text": [
      "torch.Size([1, 2, 1])\n",
      "torch.Size([1, 1, 1])\n",
      "torch.Size([1, 2, 1])\n",
      "Parameter containing:\n",
      "tensor([[[ 0.3448],\n",
      "         [-0.2482]]], requires_grad=True)\n",
      "Epoch 0: loss 0.1982719600200653\n",
      "Epoch 100: loss 0.02700117789208889\n",
      "Epoch 200: loss 0.00019820242596324533\n",
      "Epoch 300: loss 6.321718046820024e-06\n",
      "Epoch 400: loss 2.67454114410981e-12\n",
      "Epoch 500: loss 2.220446049250313e-16\n",
      "Epoch 600: loss 3.552713678800501e-15\n",
      "Epoch 700: loss 4.996003610813204e-16\n",
      "Epoch 800: loss 0.0\n",
      "Epoch 900: loss 3.552713678800501e-15\n"
     ]
    },
    {
     "data": {
      "text/plain": [
       "(Parameter containing:\n",
       " tensor([[[0.7000],\n",
       "          [0.3000]]], requires_grad=True),\n",
       " tensor([[[-0.1930],\n",
       "          [-0.0095]]]),\n",
       " tensor([[-0.1379]]))"
      ]
     },
     "execution_count": 9,
     "metadata": {},
     "output_type": "execute_result"
    }
   ],
   "source": [
    "DEVICE = \"cpu\"#\"cuda:0\" if torch.cuda.is_available() else \"cpu\"\n",
    "input_channels = 2\n",
    "num_classes = 3\n",
    "input_size = 1\n",
    "num_samples = 1\n",
    "inputs, targets = generate_data(num_samples=num_samples, input_channels=input_channels, input_size=input_size, num_classes=num_classes)\n",
    "\n",
    "# Function to generate dummy data for 1D ConvNet\n",
    "def generate_data_1d(num_samples, input_channels, input_size, num_classes):\n",
    "    # Create a random input tensor\n",
    "    input_data = torch.randn(num_samples, input_channels, input_size)\n",
    "    return input_data\n",
    "\n",
    "inputs = generate_data_1d(num_samples=num_samples, input_channels=input_channels, input_size=input_size, num_classes=num_classes)\n",
    "\n",
    "# model = TimingModel(num_classes = 1).to(DEVICE)\n",
    "out_channels = 1\n",
    "# model = OneLayerConvNet(in_channels=input_channels, out_channels=out_channels, bias=False).to(DEVICE)\n",
    "model = OneLayer1dConvNet(in_channels=input_channels, out_channels=out_channels, bias=False).to(DEVICE)\n",
    "print(inputs.shape)\n",
    "\n",
    "print(model(inputs).shape)\n",
    "\n",
    "# Access the weights of conv1 layer\n",
    "weights = model.conv1.weight\n",
    "print(weights.shape)\n",
    "print(weights)\n",
    "\n",
    "# Define loss and optimizer\n",
    "criterion = nn.MSELoss()\n",
    "optimizer = optim.Adam(model.parameters(), lr=0.01)\n",
    "\n",
    "\n",
    "# Train the model\n",
    "epoch_max = 1000\n",
    "for epoch in range(epoch_max):\n",
    "    inputs = generate_data_1d(num_samples=num_samples, input_channels=input_channels, input_size=input_size, num_classes=num_classes)\n",
    "    X = inputs\n",
    "    y = inputs[:,0,:]*0.7 + inputs[:,1,:]*0.3\n",
    "    \n",
    "    optimizer.zero_grad()\n",
    "    outputs = model(X.to(DEVICE))\n",
    "    loss = criterion(outputs, y.float().to(DEVICE))\n",
    "    loss.backward()\n",
    "    optimizer.step()\n",
    "    if epoch % (epoch_max/10) == 0:\n",
    "        print('Epoch {}: loss {}'.format(epoch, loss.item()))\n",
    "\n",
    "weights, X, y"
   ]
  },
  {
   "cell_type": "code",
   "execution_count": 14,
   "id": "ec502f32-dd99-4fe6-a112-4e4ffe0c5984",
   "metadata": {},
   "outputs": [
    {
     "name": "stdout",
     "output_type": "stream",
     "text": [
      "model_error: 943.0563354492188, select_error: 0.0\n"
     ]
    }
   ],
   "source": [
    "model_error, select_error = 0, 0\n",
    "for _ in range(1000):\n",
    "    inputs = generate_data_1d(num_samples=num_samples, input_channels=input_channels+2, input_size=input_size, num_classes=num_classes)\n",
    "    X = inputs.clone()[:,:2,:]\n",
    "    y = inputs[:,0,:]*0.7 + inputs[:,1,:]*0.3\n",
    "    \n",
    "    outputs = model(X.to(DEVICE))\n",
    "    model.conv1.weight, model.conv1.bias, X, y, outputs\n",
    "    model_error += criterion(outputs, y.float().to(DEVICE))\n",
    "    select_error += criterion(inputs[:,0,:]*0.7 + inputs[:,1,:]*0.3, y.float().to(DEVICE))\n",
    "\n",
    "print(f\"model_error: {model_error}, select_error: {select_error}\")"
   ]
  },
  {
   "cell_type": "code",
   "execution_count": null,
   "id": "1de003fd-17c8-4d7d-b5e8-1b33937dbe70",
   "metadata": {},
   "outputs": [],
   "source": []
  },
  {
   "cell_type": "code",
   "execution_count": 15,
   "id": "b484686d-bce0-4ddf-9c6a-6a0d799860a3",
   "metadata": {},
   "outputs": [
    {
     "name": "stdout",
     "output_type": "stream",
     "text": [
      "torch.Size([2, 2, 2])\n",
      "torch.Size([2, 1, 2])\n",
      "torch.Size([1, 2, 1])\n",
      "Parameter containing:\n",
      "tensor([[[-0.2731],\n",
      "         [ 0.6738]]], requires_grad=True)\n",
      "Epoch 0: loss 0.27235954999923706\n",
      "Epoch 100: loss 0.7929954528808594\n",
      "Epoch 200: loss 1.8563162088394165\n",
      "Epoch 300: loss 0.6015964150428772\n",
      "Epoch 400: loss 0.4140069782733917\n",
      "Epoch 500: loss 0.3228446841239929\n",
      "Epoch 600: loss 0.39978161454200745\n",
      "Epoch 700: loss 0.3098946809768677\n",
      "Epoch 800: loss 0.24004150927066803\n",
      "Epoch 900: loss 0.2562407851219177\n"
     ]
    },
    {
     "data": {
      "text/plain": [
       "(Parameter containing:\n",
       " tensor([[[0.0192],\n",
       "          [0.4718]]], requires_grad=True),\n",
       " None,\n",
       " tensor([[[ 0.2567,  0.0572],\n",
       "          [-0.1435, -0.5272]],\n",
       " \n",
       "         [[ 2.3229,  0.2323],\n",
       "          [ 1.9441, -0.0325]]]),\n",
       " tensor([[-0.2877, -0.4252],\n",
       "         [ 1.9893,  0.1690]]),\n",
       " tensor([[[-0.0625, -0.2482]],\n",
       " \n",
       "         [[ 0.9682, -0.0105]]], grad_fn=<ConvolutionBackward0>))"
      ]
     },
     "execution_count": 15,
     "metadata": {},
     "output_type": "execute_result"
    }
   ],
   "source": [
    "# add noise: 2 batch size, has same noise, can ML result be better? , bias=False, more steps to train\n",
    "DEVICE = \"cpu\"#\"cuda:0\" if torch.cuda.is_available() else \"cpu\"\n",
    "input_channels = 2\n",
    "num_classes = 3\n",
    "input_size = 2\n",
    "num_samples = 2\n",
    "inputs, targets = generate_data(num_samples=num_samples, input_channels=input_channels, input_size=input_size, num_classes=num_classes)\n",
    "\n",
    "# Function to generate dummy data for 1D ConvNet\n",
    "def generate_data_1d(num_samples, input_channels, input_size, num_classes):\n",
    "    # Create a random input tensor\n",
    "    input_data = torch.randn(num_samples, input_channels, input_size)\n",
    "    return input_data\n",
    "\n",
    "inputs = generate_data_1d(num_samples=num_samples, input_channels=input_channels, input_size=input_size, num_classes=num_classes)\n",
    "\n",
    "# model = TimingModel(num_classes = 1).to(DEVICE)\n",
    "out_channels = 1\n",
    "# model = OneLayerConvNet(in_channels=input_channels, out_channels=out_channels, bias=False).to(DEVICE)\n",
    "model = OneLayer1dConvNet(in_channels=input_channels, out_channels=out_channels, bias=False).to(DEVICE)\n",
    "print(inputs.shape)\n",
    "\n",
    "print(model(inputs).shape)\n",
    "\n",
    "# Access the weights of conv1 layer\n",
    "weights = model.conv1.weight\n",
    "print(weights.shape)\n",
    "print(weights)\n",
    "\n",
    "# Define loss and optimizer\n",
    "criterion = nn.MSELoss()\n",
    "optimizer = optim.Adam(model.parameters(), lr=0.01)\n",
    "\n",
    "\n",
    "# Train the model\n",
    "epoch_max = 1000\n",
    "for epoch in range(epoch_max):\n",
    "    inputs = generate_data_1d(num_samples=num_samples, input_channels=input_channels+2, input_size=input_size, num_classes=num_classes)\n",
    "    X = inputs.clone()[:,:2,:]\n",
    "    X[:,0,:] = inputs[:,0,:] +  inputs[:,2,:]*0.5\n",
    "    X[:,1,:] = inputs[:,0,:] +  inputs[:,3,:]*0.1\n",
    "    y = inputs[:,0,:]#*0.7 + inputs[:,1,:]*0.3\n",
    "    \n",
    "    optimizer.zero_grad()\n",
    "    outputs = model(X.to(DEVICE))\n",
    "    loss = criterion(outputs, y.float().to(DEVICE))\n",
    "    loss.backward()\n",
    "    optimizer.step()\n",
    "    if epoch % (epoch_max/10) == 0:\n",
    "        print('Epoch {}: loss {}'.format(epoch, loss.item()))\n",
    "\n",
    "model.conv1.weight, model.conv1.bias, X, y, outputs"
   ]
  },
  {
   "cell_type": "code",
   "execution_count": 16,
   "id": "6cc1510c-858d-4b5b-8080-82fd94a0e12e",
   "metadata": {},
   "outputs": [
    {
     "name": "stdout",
     "output_type": "stream",
     "text": [
      "model_error: 797.2539672851562, select_error: 10.213024139404297\n"
     ]
    }
   ],
   "source": [
    "model_error, select_error = 0, 0\n",
    "for _ in range(1000):\n",
    "    inputs = generate_data_1d(num_samples=num_samples, input_channels=input_channels+2, input_size=input_size, num_classes=num_classes)\n",
    "    X = inputs.clone()[:,:2,:]\n",
    "    X[:,0,:] = inputs[:,0,:] +  inputs[:,2,:]*0.5\n",
    "    X[:,1,:] = inputs[:,0,:] +  inputs[:,3,:]*0.1\n",
    "    y = inputs[:,0,:]#*0.7 + inputs[:,1,:]*0.3\n",
    "    outputs = model(X.to(DEVICE))\n",
    "    model.conv1.weight, model.conv1.bias, X, y, outputs\n",
    "    model_error += criterion(outputs, y.float().to(DEVICE))\n",
    "    select_error += criterion(X[:,1,:], y.float().to(DEVICE))\n",
    "\n",
    "print(f\"model_error: {model_error}, select_error: {select_error}\")"
   ]
  },
  {
   "cell_type": "code",
   "execution_count": null,
   "id": "d5aa1c03-5d84-4f7e-8709-9d40ad177b64",
   "metadata": {},
   "outputs": [],
   "source": []
  },
  {
   "cell_type": "code",
   "execution_count": null,
   "id": "3411ef0f-f8c7-45f3-8207-613319e8f887",
   "metadata": {},
   "outputs": [],
   "source": []
  }
 ],
 "metadata": {
  "kernelspec": {
   "display_name": "Python 3 (ipykernel)",
   "language": "python",
   "name": "python3"
  },
  "language_info": {
   "codemirror_mode": {
    "name": "ipython",
    "version": 3
   },
   "file_extension": ".py",
   "mimetype": "text/x-python",
   "name": "python",
   "nbconvert_exporter": "python",
   "pygments_lexer": "ipython3",
   "version": "3.10.13"
  }
 },
 "nbformat": 4,
 "nbformat_minor": 5
}
